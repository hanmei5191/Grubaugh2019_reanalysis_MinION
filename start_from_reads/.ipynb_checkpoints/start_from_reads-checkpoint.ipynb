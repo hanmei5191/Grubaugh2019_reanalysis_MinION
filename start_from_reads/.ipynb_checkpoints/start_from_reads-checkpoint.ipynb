{
 "cells": [
  {
   "cell_type": "markdown",
   "metadata": {},
   "source": [
    "### This notebook does original MinION reads alignment, ARTIC primer trimming, and variants calling. "
   ]
  },
  {
   "cell_type": "markdown",
   "metadata": {},
   "source": [
    "We start from the raw MinION reads. The commands below show the process from \n",
    "- Zika_iSNV_R9.4_albacore2.3.1.tgz \n",
    "- -> \n",
    "- BC01.trimmed.sorted.bam, BC02.trimmed.sorted.bam, BC03.trimmed.sorted.bam"
   ]
  },
  {
   "cell_type": "code",
   "execution_count": null,
   "metadata": {},
   "outputs": [],
   "source": [
    "# In my machine learning env (conda activate ml), install the following packages: \n",
    "!conda install porechop bwa samtools pysam pyvcf"
   ]
  },
  {
   "cell_type": "code",
   "execution_count": null,
   "metadata": {},
   "outputs": [],
   "source": [
    "%%bash \n",
    "wget http://nanopore.s3.climb.ac.uk/Zika_iSNV_R9.4_albacore2.3.1.tgz\n",
    "tar xvfz Zika_iSNV_R9.4_albacore2.3.1.tgz\n",
    "cat zika-isnv/fast5_r94/workspace/pass/*.fastq > fast5_r94.pass.fastq"
   ]
  },
  {
   "cell_type": "code",
   "execution_count": null,
   "metadata": {},
   "outputs": [],
   "source": [
    "# Dedup\n",
    "!python scripts/dedup.py fast5_r94.pass.fastq > fast5_r94.dedup.pass.fastq"
   ]
  },
  {
   "cell_type": "code",
   "execution_count": null,
   "metadata": {},
   "outputs": [],
   "source": [
    "%%bash \n",
    "THREADS=6\n",
    "porechop -b fast5_r94.dedup.pass_porechop -t $THREADS -i fast5_r94.dedup.pass.fastq\n",
    "\n",
    "# notebook wall-time error, run in terminal instead "
   ]
  },
  {
   "cell_type": "code",
   "execution_count": 1,
   "metadata": {},
   "outputs": [
    {
     "name": "stdout",
     "output_type": "stream",
     "text": [
      "[bwa_index] Pack FASTA... 0.00 sec\r\n",
      "[bwa_index] Construct BWT for the packed sequence...\r\n",
      "[bwa_index] 0.00 seconds elapse.\r\n",
      "[bwa_index] Update BWT... 0.00 sec\r\n",
      "[bwa_index] Pack forward-only FASTA... 0.00 sec\r\n",
      "[bwa_index] Construct SA from BWT and Occ... 0.00 sec\r\n",
      "[main] Version: 0.7.17-r1188\r\n",
      "[main] CMD: bwa index refs/ZIKV_REF.fasta\r\n",
      "[main] Real time: 0.006 sec; CPU: 0.012 sec\r\n"
     ]
    }
   ],
   "source": [
    "!bwa index refs/ZIKV_REF.fasta"
   ]
  },
  {
   "cell_type": "code",
   "execution_count": 6,
   "metadata": {},
   "outputs": [],
   "source": [
    "!mkdir bam "
   ]
  },
  {
   "cell_type": "code",
   "execution_count": 1,
   "metadata": {},
   "outputs": [
    {
     "name": "stderr",
     "output_type": "stream",
     "text": [
      "[M::bwa_idx_load_from_disk] read 0 ALT contigs\n",
      "[M::process] read 128292 sequences (60000649 bp)...\n",
      "[M::process] read 128154 sequences (60000189 bp)...\n",
      "[M::mem_process_seqs] Processed 128292 reads in 175.737 CPU sec, 29.925 real sec\n",
      "[M::process] read 127468 sequences (60000698 bp)...\n",
      "[M::mem_process_seqs] Processed 128154 reads in 174.107 CPU sec, 29.013 real sec\n",
      "[M::process] read 127206 sequences (60000111 bp)...\n",
      "[M::mem_process_seqs] Processed 127468 reads in 175.736 CPU sec, 29.294 real sec\n",
      "[M::process] read 92435 sequences (43378178 bp)...\n",
      "[M::mem_process_seqs] Processed 127206 reads in 175.185 CPU sec, 29.200 real sec\n",
      "[M::mem_process_seqs] Processed 92435 reads in 127.632 CPU sec, 21.305 real sec\n",
      "[main] Version: 0.7.17-r1188\n",
      "[main] CMD: bwa mem -x ont2d -t 6 refs/ZIKV_REF.fasta fast5_r94.dedup.pass_porechop/BC01.fastq\n",
      "[main] Real time: 140.629 sec; CPU: 828.827 sec\n",
      "[M::bwa_idx_load_from_disk] read 0 ALT contigs\n",
      "[M::process] read 129310 sequences (60000034 bp)...\n",
      "[M::process] read 129372 sequences (60000476 bp)...\n",
      "[M::mem_process_seqs] Processed 129310 reads in 169.364 CPU sec, 28.197 real sec\n",
      "[M::process] read 128580 sequences (60000883 bp)...\n",
      "[M::mem_process_seqs] Processed 129372 reads in 172.290 CPU sec, 28.711 real sec\n",
      "[M::process] read 128694 sequences (60000130 bp)...\n",
      "[M::mem_process_seqs] Processed 128580 reads in 174.692 CPU sec, 29.111 real sec\n",
      "[M::process] read 128552 sequences (60000635 bp)...\n",
      "[M::mem_process_seqs] Processed 128694 reads in 175.659 CPU sec, 29.301 real sec\n",
      "[M::process] read 53937 sequences (25132448 bp)...\n",
      "[M::mem_process_seqs] Processed 128552 reads in 174.128 CPU sec, 29.036 real sec\n",
      "[M::mem_process_seqs] Processed 53937 reads in 75.682 CPU sec, 12.660 real sec\n",
      "[main] Version: 0.7.17-r1188\n",
      "[main] CMD: bwa mem -x ont2d -t 6 refs/ZIKV_REF.fasta fast5_r94.dedup.pass_porechop/BC02.fastq\n",
      "[main] Real time: 165.680 sec; CPU: 942.132 sec\n",
      "[bam_sort_core] merging from 1 files and 1 in-memory blocks...\n",
      "[M::bwa_idx_load_from_disk] read 0 ALT contigs\n",
      "[M::process] read 128426 sequences (60000102 bp)...\n",
      "[M::process] read 127724 sequences (60000609 bp)...\n",
      "[M::mem_process_seqs] Processed 128426 reads in 170.624 CPU sec, 28.420 real sec\n",
      "[M::process] read 115580 sequences (54395395 bp)...\n",
      "[M::mem_process_seqs] Processed 127724 reads in 175.862 CPU sec, 29.356 real sec\n",
      "[M::mem_process_seqs] Processed 115580 reads in 159.403 CPU sec, 26.599 real sec\n",
      "[main] Version: 0.7.17-r1188\n",
      "[main] CMD: bwa mem -x ont2d -t 6 refs/ZIKV_REF.fasta fast5_r94.dedup.pass_porechop/BC03.fastq\n",
      "[main] Real time: 86.743 sec; CPU: 506.350 sec\n"
     ]
    }
   ],
   "source": [
    "%%bash\n",
    "# Align reads -> Trim ARTIC primers \n",
    "THREADS=6\n",
    "bwa mem -x ont2d -t $THREADS refs/ZIKV_REF.fasta fast5_r94.dedup.pass_porechop/BC01.fastq | samtools view -bS - | samtools sort - -o bam/BC01.sorted.bam\n",
    "bwa mem -x ont2d -t $THREADS refs/ZIKV_REF.fasta fast5_r94.dedup.pass_porechop/BC02.fastq | samtools view -bS - | samtools sort - -o bam/BC02.sorted.bam\n",
    "bwa mem -x ont2d -t $THREADS refs/ZIKV_REF.fasta fast5_r94.dedup.pass_porechop/BC03.fastq | samtools view -bS - | samtools sort - -o bam/BC03.sorted.bam\n",
    "samtools index bam/BC01.sorted.bam\n",
    "samtools index bam/BC02.sorted.bam\n",
    "samtools index bam/BC03.sorted.bam\n",
    "python scripts/align_trim.py --normalise 1000 refs/ZikaAsian.scheme.bed <bam/BC01.sorted.bam 2>/dev/null | samtools view -bS - | samtools sort - -o bam/BC01.trimmed.sorted.new.bam\n",
    "python scripts/align_trim.py --normalise 1000 refs/ZikaAsian.scheme.bed <bam/BC02.sorted.bam 2>/dev/null | samtools view -bS - | samtools sort - -o bam/BC02.trimmed.sorted.new.bam\n",
    "python scripts/align_trim.py --normalise 1000 refs/ZikaAsian.scheme.bed <bam/BC03.sorted.bam 2>/dev/null | samtools view -bS - | samtools sort - -o bam/BC03.trimmed.sorted.new.bam\n",
    "samtools index bam/BC01.trimmed.sorted.new.bam\n",
    "samtools index bam/BC02.trimmed.sorted.new.bam\n",
    "samtools index bam/BC03.trimmed.sorted.new.bam"
   ]
  },
  {
   "cell_type": "code",
   "execution_count": 4,
   "metadata": {},
   "outputs": [],
   "source": [
    "%%bash \n",
    "# Remove intermediate files \n",
    "rm Zika_iSNV_R9.4_albacore2.3.1.tgz \n",
    "rm -rf zika-isnv \n",
    "rm fast5_r94.pass.fastq \n",
    "rm fast5_r94.dedup.pass.fastq \n",
    "rm -rf fast5_r94.dedup.pass_porechop \n",
    "rm bam/BC01.sorted.ba* bam/BC02.sorted.ba* bam/BC03.sorted.ba*"
   ]
  },
  {
   "cell_type": "markdown",
   "metadata": {},
   "source": [
    "With the three trimmed.sorted.bam files, we then use freqs_modified.py to generate variants tables containing: \n",
    "- VariantCov\n",
    "- ForwardVariantCov\n",
    "- ReverseVariantCov\n",
    "- RefCov\n",
    "- ForwardRefCov\n",
    "- ReverseRefCov"
   ]
  },
  {
   "cell_type": "code",
   "execution_count": 2,
   "metadata": {},
   "outputs": [],
   "source": [
    "%%bash \n",
    "python scripts/freqs_modified.py --snpfreqmin 0.03 bam/BC01.trimmed.sorted.new.bam refs/ZIKV_REF.fasta > BC01_modified.variants.0.03.new.txt\n",
    "python scripts/freqs_modified.py --snpfreqmin 0.03 bam/BC02.trimmed.sorted.new.bam refs/ZIKV_REF.fasta > BC02_modified.variants.0.03.new.txt\n",
    "python scripts/freqs_modified.py --snpfreqmin 0.03 bam/BC03.trimmed.sorted.new.bam refs/ZIKV_REF.fasta > BC03_modified.variants.0.03.new.txt\n"
   ]
  },
  {
   "cell_type": "code",
   "execution_count": null,
   "metadata": {},
   "outputs": [],
   "source": [
    "%%bash \n",
    "python scripts/freqs.py --snpfreqmin 0.03 bam/BC01.trimmed.sorted.new.bam refs/ZIKV_REF.fasta > BC01_confirm.variants.0.03.new.txt\n",
    "python scripts/freqs.py --snpfreqmin 0.03 bam/BC02.trimmed.sorted.new.bam refs/ZIKV_REF.fasta > BC02_confirm.variants.0.03.new.txt\n",
    "python scripts/freqs.py --snpfreqmin 0.03 bam/BC03.trimmed.sorted.new.bam refs/ZIKV_REF.fasta > BC03_confirm.variants.0.03.new.txt\n"
   ]
  },
  {
   "cell_type": "markdown",
   "metadata": {},
   "source": [
    "### Compare \n",
    "variants tables BC01/02/03_modified/confirm.variants.0.03.new.txt (called from raw reads) \n",
    "\n",
    "to \n",
    "\n",
    "variants tables BC01/02/03_modified/confirm.variants.0.03.txt (called from BC01/02/03.trimmed.sorted.bam files provided by [Nicholas J. Loman](https://github.com/nickloman/zika-isnv))\n",
    "\n",
    "(https://github.com/hanmei5191/Grubaugh2019_reanalysis_MinION/tree/master/start_from_trimmed.sorted.bam). Only 1–2 positions were seen as inconsistent between varia\n",
    "\n",
    "### [Conclusion] The variants tables BC01/02/03.variants.0.03.txt uploaded by [Nicholas J. Loman](https://github.com/nickloman/zika-isnv) were not generated from BC01/02/03.trimmed.sorted.bam in the same repo. "
   ]
  },
  {
   "cell_type": "code",
   "execution_count": null,
   "metadata": {},
   "outputs": [],
   "source": []
  }
 ],
 "metadata": {
  "kernelspec": {
   "display_name": "Python 3",
   "language": "python",
   "name": "python3"
  },
  "language_info": {
   "codemirror_mode": {
    "name": "ipython",
    "version": 3
   },
   "file_extension": ".py",
   "mimetype": "text/x-python",
   "name": "python",
   "nbconvert_exporter": "python",
   "pygments_lexer": "ipython3",
   "version": "3.6.10"
  }
 },
 "nbformat": 4,
 "nbformat_minor": 4
}
