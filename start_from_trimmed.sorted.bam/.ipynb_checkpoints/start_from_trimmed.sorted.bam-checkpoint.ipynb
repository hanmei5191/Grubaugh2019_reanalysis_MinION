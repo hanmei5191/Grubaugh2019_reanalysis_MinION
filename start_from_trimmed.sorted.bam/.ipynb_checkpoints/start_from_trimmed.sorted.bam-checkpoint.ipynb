{
 "cells": [
  {
   "cell_type": "markdown",
   "metadata": {},
   "source": [
    "## This notebook aims to re-calculate strand bias using the three methods described by [Guo2012](https://bmcgenomics.biomedcentral.com/articles/10.1186/1471-2164-13-666). "
   ]
  },
  {
   "cell_type": "markdown",
   "metadata": {},
   "source": [
    "We start from the three trimmed.sorted.bam files listed below. "
   ]
  },
  {
   "cell_type": "markdown",
   "metadata": {},
   "source": [
    "The first three commands below use \"scripts/freqs_modified.py\", which generate variants tables containing: \n",
    "- VariantCov\n",
    "- ForwardVariantCov\n",
    "- ReverseVariantCov\n",
    "- RefCov\n",
    "- ForwardRefCov\n",
    "- ReverseRefCov"
   ]
  },
  {
   "cell_type": "code",
   "execution_count": 1,
   "metadata": {},
   "outputs": [],
   "source": [
    "!python scripts/freqs_modified.py --snpfreqmin 0.03 bam/BC01.trimmed.sorted.bam refs/ZIKV_REF.fasta > BC01_modified.variants.0.03.txt\n",
    "!python scripts/freqs_modified.py --snpfreqmin 0.03 bam/BC02.trimmed.sorted.bam refs/ZIKV_REF.fasta > BC02_modified.variants.0.03.txt\n",
    "!python scripts/freqs_modified.py --snpfreqmin 0.03 bam/BC03.trimmed.sorted.bam refs/ZIKV_REF.fasta > BC03_modified.variants.0.03.txt\n"
   ]
  },
  {
   "cell_type": "markdown",
   "metadata": {},
   "source": [
    "The three commands below are trying to reproduce the generation of BC01/02/03.variants.0.03.txt from BC01/02/03.trimmed.sorted.bam using \"scripts/freqs.py\". BC01/02/03.trimmed.sorted.bam and scripts/freqs.py were taken from [Nicholas J. Loman](https://github.com/nickloman/zika-isnv/).  "
   ]
  },
  {
   "cell_type": "code",
   "execution_count": 2,
   "metadata": {},
   "outputs": [
    {
     "name": "stdout",
     "output_type": "stream",
     "text": [
      "python: can't open file 'scripts/freqs.py': [Errno 2] No such file or directory\n",
      "python: can't open file 'scripts/freqs.py': [Errno 2] No such file or directory\n",
      "python: can't open file 'scripts/freqs.py': [Errno 2] No such file or directory\n"
     ]
    }
   ],
   "source": [
    "!python scripts/freqs.py --snpfreqmin 0.03 bam/BC01.trimmed.sorted.bam refs/ZIKV_REF.fasta > BC01_confirm.variants.0.03.txt\n",
    "!python scripts/freqs.py --snpfreqmin 0.03 bam/BC02.trimmed.sorted.bam refs/ZIKV_REF.fasta > BC02_confirm.variants.0.03.txt\n",
    "!python scripts/freqs.py --snpfreqmin 0.03 bam/BC03.trimmed.sorted.bam refs/ZIKV_REF.fasta > BC03_confirm.variants.0.03.txt\n"
   ]
  },
  {
   "cell_type": "markdown",
   "metadata": {},
   "source": [
    "#### Conclusion: BC01/02/03_modified.variants.0.03.txt and BC01/02/03_confirm.variants.0.03.txt are the same, except that BC01/02/03_modified.variants.0.03.txt contain three more columns—RefCov, ForwardRefCov, and ReverseRefCov. \n",
    "#### BC01/02/03_confirm.variants.0.03.txt (generated here) are different compared to BC01/02/03.variants.0.03.txt (from [Nicholas J. Loman](https://github.com/nickloman/zika-isnv/)), the commands and input files used are exactly the same though. BC01/02/03.trimmed.sorted.bam by [Nicholas J. Loman](https://github.com/nickloman/zika-isnv/) should be updated.  "
   ]
  },
  {
   "cell_type": "code",
   "execution_count": 3,
   "metadata": {},
   "outputs": [],
   "source": [
    "%load_ext rpy2.ipython"
   ]
  },
  {
   "cell_type": "code",
   "execution_count": 4,
   "metadata": {},
   "outputs": [
    {
     "name": "stderr",
     "output_type": "stream",
     "text": [
      "R[write to console]: ── \u001b[1mAttaching packages\u001b[22m ─────────────────────────────────────── tidyverse 1.3.0 ──\n",
      "\n",
      "R[write to console]: \u001b[32m✔\u001b[39m \u001b[34mggplot2\u001b[39m 3.3.2     \u001b[32m✔\u001b[39m \u001b[34mpurrr  \u001b[39m 0.3.4\n",
      "\u001b[32m✔\u001b[39m \u001b[34mtibble \u001b[39m 3.0.2     \u001b[32m✔\u001b[39m \u001b[34mdplyr  \u001b[39m 1.0.0\n",
      "\u001b[32m✔\u001b[39m \u001b[34mtidyr  \u001b[39m 1.1.0     \u001b[32m✔\u001b[39m \u001b[34mstringr\u001b[39m 1.4.0\n",
      "\u001b[32m✔\u001b[39m \u001b[34mreadr  \u001b[39m 1.3.1     \u001b[32m✔\u001b[39m \u001b[34mforcats\u001b[39m 0.5.0\n",
      "\n",
      "R[write to console]: ── \u001b[1mConflicts\u001b[22m ────────────────────────────────────────── tidyverse_conflicts() ──\n",
      "\u001b[31m✖\u001b[39m \u001b[34mdplyr\u001b[39m::\u001b[32mfilter()\u001b[39m masks \u001b[34mstats\u001b[39m::filter()\n",
      "\u001b[31m✖\u001b[39m \u001b[34mdplyr\u001b[39m::\u001b[32mlag()\u001b[39m    masks \u001b[34mstats\u001b[39m::lag()\n",
      "\n"
     ]
    }
   ],
   "source": [
    "%%R \n",
    "library(\"tidyverse\")\n",
    "options(dplyr.width = Inf)\n",
    "options(readr.num_columns = 0)"
   ]
  },
  {
   "cell_type": "code",
   "execution_count": 5,
   "metadata": {},
   "outputs": [],
   "source": [
    "%%R \n",
    "# Strand bias calculation, formula taken from Guo2012.  \n",
    "SB_calc = function(ForwardRefCov, ForwardVariantCov, ReverseRefCov, ReverseVariantCov){\n",
    "    a = ForwardRefCov\n",
    "    b = ForwardVariantCov\n",
    "    c = ReverseRefCov\n",
    "    d = ReverseVariantCov\n",
    "    bias = abs(b/(a+b) - d/(c+d)) / ((b+d)/(a+b+c+d))\n",
    "    return (bias)\n",
    "}\n",
    "\n",
    "# GATK strand bias calculation, formula taken from Guo2012. \n",
    "GATK_SB_calc = function(ForwardRefCov, ForwardVariantCov, ReverseRefCov, ReverseVariantCov){\n",
    "    a = ForwardRefCov\n",
    "    b = ForwardVariantCov\n",
    "    c = ReverseRefCov\n",
    "    d = ReverseVariantCov\n",
    "    bias1 = b/(a+b)*(c/(c+d))/((a+c)/(a+b+c+d))\n",
    "    bias2 = d/(c+d)*(a/(a+b))/((a+c)/(a+b+c+d))\n",
    "    return(pmax(bias1,bias2))\n",
    "}\n",
    "\n",
    "# Fisher strand bias calculation, formula taken from Guo2012. \n",
    "Fisher_SB_calc = function(ForwardRefCov, ForwardVariantCov, ReverseRefCov, ReverseVariantCov){\n",
    "    a = ForwardRefCov\n",
    "    b = ForwardVariantCov\n",
    "    c = ReverseRefCov\n",
    "    d = ReverseVariantCov\n",
    "    testor = matrix(c(a,b,c,d), ncol=2)\n",
    "    return (1 - fisher.test(testor)$p.value)\n",
    "}\n"
   ]
  },
  {
   "cell_type": "code",
   "execution_count": 6,
   "metadata": {},
   "outputs": [
    {
     "name": "stdout",
     "output_type": "stream",
     "text": [
      "\u001b[90m# A tibble: 3 x 8\u001b[39m\n",
      "\u001b[90m# Rowwise: \u001b[39m\n",
      "       Pos ForwardVariantCov ReverseVariantCov ForwardRefCov ReverseRefCov    SB\n",
      "     \u001b[3m\u001b[90m<dbl>\u001b[39m\u001b[23m             \u001b[3m\u001b[90m<dbl>\u001b[39m\u001b[23m             \u001b[3m\u001b[90m<dbl>\u001b[39m\u001b[23m         \u001b[3m\u001b[90m<dbl>\u001b[39m\u001b[23m         \u001b[3m\u001b[90m<dbl>\u001b[39m\u001b[23m \u001b[3m\u001b[90m<dbl>\u001b[39m\u001b[23m\n",
      "\u001b[90m1\u001b[39m 43\u001b[4m9\u001b[24m\u001b[4m1\u001b[24m\u001b[4m7\u001b[24m013                 2                 0            11            20  2.54\n",
      "\u001b[90m2\u001b[39m 95\u001b[4m9\u001b[24m\u001b[4m2\u001b[24m\u001b[4m3\u001b[24m670                 2                 0            16            10  1.56\n",
      "\u001b[90m3\u001b[39m 57\u001b[4m0\u001b[24m\u001b[4m8\u001b[24m\u001b[4m8\u001b[24m850                 2                 0             8            16  2.6 \n",
      "  GATK_SB Fisher_SB\n",
      "    \u001b[3m\u001b[90m<dbl>\u001b[39m\u001b[23m     \u001b[3m\u001b[90m<dbl>\u001b[39m\u001b[23m\n",
      "\u001b[90m1\u001b[39m   0.164     0.852\n",
      "\u001b[90m2\u001b[39m   0.120     0.476\n",
      "\u001b[90m3\u001b[39m   0.217     0.862\n"
     ]
    }
   ],
   "source": [
    "%%R\n",
    "# Test the three strand calculation methods on Guo2012 Table 3 \n",
    "# Filter out variants with ForwardRefCov <= 10 or ForwardVariantCov <= 10 or ReverseRefCov <= 10 or ReverseVariantCov <= 10. \n",
    "guo = read_tsv(\"Guo_table_3.txt\")\n",
    "guo %>%\n",
    "  mutate(SB = SB_calc(ForwardRefCov, ForwardVariantCov, ReverseRefCov, ReverseVariantCov)) %>%\n",
    "  mutate(GATK_SB = GATK_SB_calc(ForwardRefCov, ForwardVariantCov, ReverseRefCov, ReverseVariantCov)) %>% \n",
    "  rowwise() %>% \n",
    "  mutate(Fisher_SB = Fisher_SB_calc(ForwardRefCov, ForwardVariantCov, ReverseRefCov, ReverseVariantCov))\n"
   ]
  },
  {
   "cell_type": "markdown",
   "metadata": {},
   "source": [
    "SB, GATK_SB, and Fisher_SB are the same compared to those provided in table 3 in Guo2012. "
   ]
  },
  {
   "cell_type": "markdown",
   "metadata": {},
   "source": [
    "Next is to apply clustering models on the MinION data. "
   ]
  },
  {
   "cell_type": "code",
   "execution_count": 7,
   "metadata": {
    "scrolled": false
   },
   "outputs": [],
   "source": [
    "%%R \n",
    "# Read in the three datasets \"BC01.variants.0.03.txt\", \"BC02.variants.0.03.txt\", \"BC03.variants.0.03.txt\". \n",
    "barcode1snps=read_tsv(\"BC01_modified.variants.0.03.txt\")\n",
    "barcode1snps$replica = 'a'\n",
    "\n",
    "barcode2snps=read_tsv(\"BC02_modified.variants.0.03.txt\")\n",
    "barcode2snps$replica = 'b'\n",
    "\n",
    "barcode3snps=read_tsv(\"BC03_modified.variants.0.03.txt\")\n",
    "barcode3snps$replica = 'c'"
   ]
  },
  {
   "cell_type": "code",
   "execution_count": 8,
   "metadata": {},
   "outputs": [],
   "source": [
    "%%R\n",
    "# Merge the three datasets\n",
    "minion_all_variants=rbind(barcode1snps, barcode2snps, barcode3snps)"
   ]
  },
  {
   "cell_type": "markdown",
   "metadata": {},
   "source": [
    "Remove position in amplicons with primer mismatches.\n",
    "\n",
    "These positions are described in \"expectedpositions.txt\", where each of the position are labelled by: \n",
    "- \"REMOVE\": positions to be removed, because they are located in the amplicons with primer mismatches\n",
    "- \"TRUE\": true positives variants by comparing the consensus nt sequence of the gb records KX087101 and KU955593. \n",
    "- \"FALSE\": false positives, variants detected by MinION, but not labelled as \"TRUE\". "
   ]
  },
  {
   "cell_type": "code",
   "execution_count": 9,
   "metadata": {},
   "outputs": [],
   "source": [
    "%%R \n",
    "expectedpositions=read_tsv(\"expectedpositions.txt\")"
   ]
  },
  {
   "cell_type": "code",
   "execution_count": 10,
   "metadata": {},
   "outputs": [],
   "source": [
    "%%R \n",
    "# Remove positions with the label \"REMOVE\"\n",
    "minion_all_variants_positions=minion_all_variants %>%\n",
    "   left_join(expectedpositions, by=c(\"Pos\" = \"Position\")) %>%\n",
    "   filter(State != 'Remove')"
   ]
  },
  {
   "cell_type": "code",
   "execution_count": 12,
   "metadata": {},
   "outputs": [],
   "source": [
    "%%R\n",
    "# Add strand bias info\n",
    "# Note that here we do not filter out position \n",
    "# with (ForwardRefCov or ForwardVariantCov or ReverseRefCov or ReverseVariantCov < 10)\n",
    "# Instead, we filter out rows with NaN in SB or GATK_SB or Fisher_SB. \n",
    "\n",
    "minion_all_variants_positions %>%\n",
    "  mutate(Decision = ifelse(grepl(\"TRUE\", State), 1, 0)) %>%\n",
    "  mutate(SB = SB_calc(ForwardRefCov, ForwardVariantCov, ReverseRefCov, ReverseVariantCov)) %>%\n",
    "  mutate(GATK_SB = GATK_SB_calc(ForwardRefCov, ForwardVariantCov, ReverseRefCov, ReverseVariantCov)) %>% \n",
    "  rowwise() %>% \n",
    "  mutate(Fisher_SB = Fisher_SB_calc(ForwardRefCov, ForwardVariantCov, ReverseRefCov, ReverseVariantCov)) %>% \n",
    "  filter(!is.na(SB)) %>%\n",
    "  filter(!is.na(GATK_SB)) %>%\n",
    "  filter(!is.na(Fisher_SB)) %>%\n",
    "  write_tsv(\"minion_all_variants_positions_SB.tsv\")"
   ]
  },
  {
   "cell_type": "code",
   "execution_count": null,
   "metadata": {},
   "outputs": [],
   "source": []
  }
 ],
 "metadata": {
  "kernelspec": {
   "display_name": "Python 3",
   "language": "python",
   "name": "python3"
  },
  "language_info": {
   "codemirror_mode": {
    "name": "ipython",
    "version": 3
   },
   "file_extension": ".py",
   "mimetype": "text/x-python",
   "name": "python",
   "nbconvert_exporter": "python",
   "pygments_lexer": "ipython3",
   "version": "3.6.10"
  }
 },
 "nbformat": 4,
 "nbformat_minor": 4
}
